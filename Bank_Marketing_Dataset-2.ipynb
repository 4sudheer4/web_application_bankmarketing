{
 "cells": [
  {
   "cell_type": "markdown",
   "id": "a824ecdd",
   "metadata": {},
   "source": [
    "## Bank Marketing "
   ]
  },
  {
   "cell_type": "code",
   "execution_count": 1,
   "id": "c836c102",
   "metadata": {},
   "outputs": [
    {
     "ename": "ImportError",
     "evalue": "dlopen(/Users/asudheer/miniforge3/lib/python3.9/site-packages/tensorflow/python/_pywrap_tfe.so, 0x0002): Library not loaded: @rpath/_pywrap_tensorflow_internal.so\n  Referenced from: /Users/asudheer/miniforge3/lib/python3.9/site-packages/tensorflow/python/_pywrap_tfe.so\n  Reason: tried: '/Users/asudheer/miniforge3/lib/python3.9/site-packages/tensorflow/python/../../_solib_darwin_arm64/_U_S_Stensorflow_Spython_C_Upywrap_Utfe.so___Utensorflow/_pywrap_tensorflow_internal.so' (no such file), '/Users/asudheer/miniforge3/lib/python3.9/site-packages/tensorflow/python/../../_solib_darwin_arm64/_U_S_Stensorflow_Spython_C_Upywrap_Utensorflow_Uinternal_Umacos___Utensorflow_Spython/_pywrap_tensorflow_internal.so' (no such file), '/Users/asudheer/miniforge3/lib/python3.9/site-packages/tensorflow/python/_pywrap_tensorflow_internal.so' (no such file), '/Users/asudheer/miniforge3/lib/python3.9/site-packages/tensorflow/python/../_pywrap_tensorflow_internal.so' (no such file), '/Users/asudheer/miniforge3/lib/python3.9/site-packages/tensorflow/python/../../_solib_darwin_arm64/_U_S_Stensorflow_Spython_C_Upywrap_Utfe.so___Utensorflow/_pywrap_tensorflow_internal.so' (no such file), '/Users/asudheer/miniforge3/lib/python3.9/site-packages/tensorflow/python/../../_solib_darwin_arm64/_U_S_Stensorflow_Spython_C_Upywrap_Utensorflow_Uinternal_Umacos___Utensorflow_Spython/_pywrap_tensorflow_internal.so' (no such file), '/Users/asudheer/miniforge3/lib/python3.9/site-packages/tensorflow/python/_pywrap_tensorflow_internal.so' (no such file), '/Users/asudheer/miniforge3/lib/python3.9/site-packages/tensorflow/python/../_pywrap_tensorflow_internal.so' (no such file), '/Users/asudheer/miniforge3/bin/../lib/_pywrap_tensorflow_internal.so' (no such file), '/Users/asudheer/miniforge3/bin/../lib/_pywrap_tensorflow_internal.so' (no such file), '/usr/local/lib/_pywrap_tensorflow_internal.so' (no such file), '/usr/lib/_pywrap_tensorflow_internal.so' (no such file)",
     "output_type": "error",
     "traceback": [
      "\u001b[0;31m---------------------------------------------------------------------------\u001b[0m",
      "\u001b[0;31mImportError\u001b[0m                               Traceback (most recent call last)",
      "Input \u001b[0;32mIn [1]\u001b[0m, in \u001b[0;36m<cell line: 7>\u001b[0;34m()\u001b[0m\n\u001b[1;32m      5\u001b[0m get_ipython()\u001b[38;5;241m.\u001b[39mrun_line_magic(\u001b[38;5;124m'\u001b[39m\u001b[38;5;124mmatplotlib\u001b[39m\u001b[38;5;124m'\u001b[39m, \u001b[38;5;124m'\u001b[39m\u001b[38;5;124minline\u001b[39m\u001b[38;5;124m'\u001b[39m)\n\u001b[1;32m      6\u001b[0m \u001b[38;5;28;01mimport\u001b[39;00m \u001b[38;5;21;01mwarnings\u001b[39;00m \n\u001b[0;32m----> 7\u001b[0m \u001b[38;5;28;01mimport\u001b[39;00m \u001b[38;5;21;01mtensorflow\u001b[39;00m \u001b[38;5;28;01mas\u001b[39;00m \u001b[38;5;21;01mtf\u001b[39;00m\n\u001b[1;32m      8\u001b[0m \u001b[38;5;28;01mfrom\u001b[39;00m \u001b[38;5;21;01mtensorflow\u001b[39;00m\u001b[38;5;21;01m.\u001b[39;00m\u001b[38;5;21;01mkeras\u001b[39;00m\u001b[38;5;21;01m.\u001b[39;00m\u001b[38;5;21;01mpreprocessing\u001b[39;00m\u001b[38;5;21;01m.\u001b[39;00m\u001b[38;5;21;01mtext\u001b[39;00m \u001b[38;5;28;01mimport\u001b[39;00m Tokenizer\n\u001b[1;32m      9\u001b[0m \u001b[38;5;28;01mfrom\u001b[39;00m \u001b[38;5;21;01mtensorflow\u001b[39;00m\u001b[38;5;21;01m.\u001b[39;00m\u001b[38;5;21;01mkeras\u001b[39;00m\u001b[38;5;21;01m.\u001b[39;00m\u001b[38;5;21;01mpreprocessing\u001b[39;00m\u001b[38;5;21;01m.\u001b[39;00m\u001b[38;5;21;01msequence\u001b[39;00m \u001b[38;5;28;01mimport\u001b[39;00m pad_sequences\n",
      "File \u001b[0;32m~/miniforge3/lib/python3.9/site-packages/tensorflow/__init__.py:37\u001b[0m, in \u001b[0;36m<module>\u001b[0;34m\u001b[0m\n\u001b[1;32m     34\u001b[0m \u001b[38;5;28;01mimport\u001b[39;00m \u001b[38;5;21;01msys\u001b[39;00m \u001b[38;5;28;01mas\u001b[39;00m \u001b[38;5;21;01m_sys\u001b[39;00m\n\u001b[1;32m     35\u001b[0m \u001b[38;5;28;01mimport\u001b[39;00m \u001b[38;5;21;01mtyping\u001b[39;00m \u001b[38;5;28;01mas\u001b[39;00m \u001b[38;5;21;01m_typing\u001b[39;00m\n\u001b[0;32m---> 37\u001b[0m \u001b[38;5;28;01mfrom\u001b[39;00m \u001b[38;5;21;01mtensorflow\u001b[39;00m\u001b[38;5;21;01m.\u001b[39;00m\u001b[38;5;21;01mpython\u001b[39;00m\u001b[38;5;21;01m.\u001b[39;00m\u001b[38;5;21;01mtools\u001b[39;00m \u001b[38;5;28;01mimport\u001b[39;00m module_util \u001b[38;5;28;01mas\u001b[39;00m _module_util\n\u001b[1;32m     38\u001b[0m \u001b[38;5;28;01mfrom\u001b[39;00m \u001b[38;5;21;01mtensorflow\u001b[39;00m\u001b[38;5;21;01m.\u001b[39;00m\u001b[38;5;21;01mpython\u001b[39;00m\u001b[38;5;21;01m.\u001b[39;00m\u001b[38;5;21;01mutil\u001b[39;00m\u001b[38;5;21;01m.\u001b[39;00m\u001b[38;5;21;01mlazy_loader\u001b[39;00m \u001b[38;5;28;01mimport\u001b[39;00m LazyLoader \u001b[38;5;28;01mas\u001b[39;00m _LazyLoader\n\u001b[1;32m     40\u001b[0m \u001b[38;5;66;03m# Make sure code inside the TensorFlow codebase can use tf2.enabled() at import.\u001b[39;00m\n",
      "File \u001b[0;32m~/miniforge3/lib/python3.9/site-packages/tensorflow/python/__init__.py:37\u001b[0m, in \u001b[0;36m<module>\u001b[0;34m\u001b[0m\n\u001b[1;32m     29\u001b[0m \u001b[38;5;66;03m# We aim to keep this file minimal and ideally remove completely.\u001b[39;00m\n\u001b[1;32m     30\u001b[0m \u001b[38;5;66;03m# If you are adding a new file with @tf_export decorators,\u001b[39;00m\n\u001b[1;32m     31\u001b[0m \u001b[38;5;66;03m# import it in modules_with_exports.py instead.\u001b[39;00m\n\u001b[1;32m     32\u001b[0m \n\u001b[1;32m     33\u001b[0m \u001b[38;5;66;03m# go/tf-wildcard-import\u001b[39;00m\n\u001b[1;32m     34\u001b[0m \u001b[38;5;66;03m# pylint: disable=wildcard-import,g-bad-import-order,g-import-not-at-top\u001b[39;00m\n\u001b[1;32m     36\u001b[0m \u001b[38;5;28;01mfrom\u001b[39;00m \u001b[38;5;21;01mtensorflow\u001b[39;00m\u001b[38;5;21;01m.\u001b[39;00m\u001b[38;5;21;01mpython\u001b[39;00m \u001b[38;5;28;01mimport\u001b[39;00m pywrap_tensorflow \u001b[38;5;28;01mas\u001b[39;00m _pywrap_tensorflow\n\u001b[0;32m---> 37\u001b[0m \u001b[38;5;28;01mfrom\u001b[39;00m \u001b[38;5;21;01mtensorflow\u001b[39;00m\u001b[38;5;21;01m.\u001b[39;00m\u001b[38;5;21;01mpython\u001b[39;00m\u001b[38;5;21;01m.\u001b[39;00m\u001b[38;5;21;01meager\u001b[39;00m \u001b[38;5;28;01mimport\u001b[39;00m context\n\u001b[1;32m     39\u001b[0m \u001b[38;5;66;03m# pylint: enable=wildcard-import\u001b[39;00m\n\u001b[1;32m     40\u001b[0m \n\u001b[1;32m     41\u001b[0m \u001b[38;5;66;03m# Bring in subpackages.\u001b[39;00m\n\u001b[1;32m     42\u001b[0m \u001b[38;5;28;01mfrom\u001b[39;00m \u001b[38;5;21;01mtensorflow\u001b[39;00m\u001b[38;5;21;01m.\u001b[39;00m\u001b[38;5;21;01mpython\u001b[39;00m \u001b[38;5;28;01mimport\u001b[39;00m data\n",
      "File \u001b[0;32m~/miniforge3/lib/python3.9/site-packages/tensorflow/python/eager/context.py:33\u001b[0m, in \u001b[0;36m<module>\u001b[0;34m\u001b[0m\n\u001b[1;32m     31\u001b[0m \u001b[38;5;28;01mfrom\u001b[39;00m \u001b[38;5;21;01mtensorflow\u001b[39;00m\u001b[38;5;21;01m.\u001b[39;00m\u001b[38;5;21;01mcore\u001b[39;00m\u001b[38;5;21;01m.\u001b[39;00m\u001b[38;5;21;01mprotobuf\u001b[39;00m \u001b[38;5;28;01mimport\u001b[39;00m coordination_config_pb2\n\u001b[1;32m     32\u001b[0m \u001b[38;5;28;01mfrom\u001b[39;00m \u001b[38;5;21;01mtensorflow\u001b[39;00m\u001b[38;5;21;01m.\u001b[39;00m\u001b[38;5;21;01mcore\u001b[39;00m\u001b[38;5;21;01m.\u001b[39;00m\u001b[38;5;21;01mprotobuf\u001b[39;00m \u001b[38;5;28;01mimport\u001b[39;00m rewriter_config_pb2\n\u001b[0;32m---> 33\u001b[0m \u001b[38;5;28;01mfrom\u001b[39;00m \u001b[38;5;21;01mtensorflow\u001b[39;00m\u001b[38;5;21;01m.\u001b[39;00m\u001b[38;5;21;01mpython\u001b[39;00m \u001b[38;5;28;01mimport\u001b[39;00m pywrap_tfe\n\u001b[1;32m     34\u001b[0m \u001b[38;5;28;01mfrom\u001b[39;00m \u001b[38;5;21;01mtensorflow\u001b[39;00m\u001b[38;5;21;01m.\u001b[39;00m\u001b[38;5;21;01mpython\u001b[39;00m \u001b[38;5;28;01mimport\u001b[39;00m tf2\n\u001b[1;32m     35\u001b[0m \u001b[38;5;28;01mfrom\u001b[39;00m \u001b[38;5;21;01mtensorflow\u001b[39;00m\u001b[38;5;21;01m.\u001b[39;00m\u001b[38;5;21;01mpython\u001b[39;00m\u001b[38;5;21;01m.\u001b[39;00m\u001b[38;5;21;01mclient\u001b[39;00m \u001b[38;5;28;01mimport\u001b[39;00m pywrap_tf_session\n",
      "File \u001b[0;32m~/miniforge3/lib/python3.9/site-packages/tensorflow/python/pywrap_tfe.py:25\u001b[0m, in \u001b[0;36m<module>\u001b[0;34m\u001b[0m\n\u001b[1;32m     23\u001b[0m \u001b[38;5;66;03m# pylint: disable=invalid-import-order,g-bad-import-order, wildcard-import, unused-import\u001b[39;00m\n\u001b[1;32m     24\u001b[0m \u001b[38;5;28;01mfrom\u001b[39;00m \u001b[38;5;21;01mtensorflow\u001b[39;00m\u001b[38;5;21;01m.\u001b[39;00m\u001b[38;5;21;01mpython\u001b[39;00m \u001b[38;5;28;01mimport\u001b[39;00m pywrap_tensorflow\n\u001b[0;32m---> 25\u001b[0m \u001b[38;5;28;01mfrom\u001b[39;00m \u001b[38;5;21;01mtensorflow\u001b[39;00m\u001b[38;5;21;01m.\u001b[39;00m\u001b[38;5;21;01mpython\u001b[39;00m\u001b[38;5;21;01m.\u001b[39;00m\u001b[38;5;21;01m_pywrap_tfe\u001b[39;00m \u001b[38;5;28;01mimport\u001b[39;00m \u001b[38;5;241m*\u001b[39m\n",
      "\u001b[0;31mImportError\u001b[0m: dlopen(/Users/asudheer/miniforge3/lib/python3.9/site-packages/tensorflow/python/_pywrap_tfe.so, 0x0002): Library not loaded: @rpath/_pywrap_tensorflow_internal.so\n  Referenced from: /Users/asudheer/miniforge3/lib/python3.9/site-packages/tensorflow/python/_pywrap_tfe.so\n  Reason: tried: '/Users/asudheer/miniforge3/lib/python3.9/site-packages/tensorflow/python/../../_solib_darwin_arm64/_U_S_Stensorflow_Spython_C_Upywrap_Utfe.so___Utensorflow/_pywrap_tensorflow_internal.so' (no such file), '/Users/asudheer/miniforge3/lib/python3.9/site-packages/tensorflow/python/../../_solib_darwin_arm64/_U_S_Stensorflow_Spython_C_Upywrap_Utensorflow_Uinternal_Umacos___Utensorflow_Spython/_pywrap_tensorflow_internal.so' (no such file), '/Users/asudheer/miniforge3/lib/python3.9/site-packages/tensorflow/python/_pywrap_tensorflow_internal.so' (no such file), '/Users/asudheer/miniforge3/lib/python3.9/site-packages/tensorflow/python/../_pywrap_tensorflow_internal.so' (no such file), '/Users/asudheer/miniforge3/lib/python3.9/site-packages/tensorflow/python/../../_solib_darwin_arm64/_U_S_Stensorflow_Spython_C_Upywrap_Utfe.so___Utensorflow/_pywrap_tensorflow_internal.so' (no such file), '/Users/asudheer/miniforge3/lib/python3.9/site-packages/tensorflow/python/../../_solib_darwin_arm64/_U_S_Stensorflow_Spython_C_Upywrap_Utensorflow_Uinternal_Umacos___Utensorflow_Spython/_pywrap_tensorflow_internal.so' (no such file), '/Users/asudheer/miniforge3/lib/python3.9/site-packages/tensorflow/python/_pywrap_tensorflow_internal.so' (no such file), '/Users/asudheer/miniforge3/lib/python3.9/site-packages/tensorflow/python/../_pywrap_tensorflow_internal.so' (no such file), '/Users/asudheer/miniforge3/bin/../lib/_pywrap_tensorflow_internal.so' (no such file), '/Users/asudheer/miniforge3/bin/../lib/_pywrap_tensorflow_internal.so' (no such file), '/usr/local/lib/_pywrap_tensorflow_internal.so' (no such file), '/usr/lib/_pywrap_tensorflow_internal.so' (no such file)"
     ]
    }
   ],
   "source": [
    "import numpy as np\n",
    "import pandas as pd\n",
    "import seaborn as sns\n",
    "import matplotlib.pyplot as plt\n",
    "%matplotlib inline\n",
    "import warnings \n",
    "import tensorflow as tf\n",
    "from tensorflow.keras.preprocessing.text import Tokenizer\n",
    "from tensorflow.keras.preprocessing.sequence import pad_sequences\n",
    "from sklearn.model_selection import train_test_split\n",
    "from sklearn.metrics import confusion_matrix, classification_report, accuracy_score\n",
    "sns.set_style('darkgrid')\n",
    "warnings.filterwarnings('ignore')\n",
    "import seaborn as sns\n",
    "from numpy import sin\n",
    "from matplotlib import pyplot\n",
    "from sklearn.preprocessing import MinMaxScaler\n",
    "from scipy.cluster.hierarchy import dendrogram, linkage"
   ]
  },
  {
   "cell_type": "code",
   "execution_count": null,
   "id": "68899bea",
   "metadata": {},
   "outputs": [],
   "source": [
    "df = pd.read_csv('bank_additional_full.csv', delimiter= ';')\n",
    "df = df.drop(['previous'], axis=1)\n",
    "df"
   ]
  },
  {
   "cell_type": "code",
   "execution_count": null,
   "id": "6b2ca91c",
   "metadata": {},
   "outputs": [],
   "source": [
    "df.describe()"
   ]
  },
  {
   "cell_type": "markdown",
   "id": "788cb115",
   "metadata": {},
   "source": [
    "### Data Cleaning Methods"
   ]
  },
  {
   "cell_type": "markdown",
   "id": "e8c23b7b",
   "metadata": {},
   "source": [
    "#### 1. Labelling the values to numeric"
   ]
  },
  {
   "cell_type": "code",
   "execution_count": null,
   "id": "070b587a",
   "metadata": {},
   "outputs": [],
   "source": [
    "df['pdays'].unique()\n",
    "df['default'].unique()\n",
    "df['default']=df['default'].replace(['yes','no','unknown'],[1,2,3])\n",
    "df['job'] = df['job'].replace(['housemaid', 'services', 'admin.', 'blue-collar', 'technician',\n",
    "       'retired', 'management', 'unemployed', 'self-employed', 'unknown',\n",
    "       'entrepreneur', 'student'], [1,2,3,4,5,6,7,8,9,10,11,12])\n",
    "df['education'] = df['education'].replace(['basic.4y', 'high.school', 'basic.6y', 'basic.9y',\n",
    "       'professional.course', 'unknown', 'university.degree',\n",
    "       'illiterate'], [1,2,3,4,5,6,7,8])\n",
    "df['housing'] = df['housing'].replace(['no', 'yes', 'unknown'], [1,2,3])\n",
    "df['loan'] = df['loan'].replace(['no', 'yes', 'unknown'], [1,2,3])\n",
    "df['marital'] = df['marital'].replace(['married', 'single', 'divorced', 'unknown'], [1,2,3,4])\n",
    "df['poutcome'] = df['poutcome'].replace(['nonexistent', 'failure', 'success'], [1,2,3])\n",
    "df['month'].unique()\n",
    "df['month'] = df['month'].replace(['may', 'jun', 'jul', 'aug', 'oct', 'nov', 'dec', 'mar', 'apr','sep'], [1,2,3,4,5,6,7,8,9,10])\n",
    "df['day_of_week'].unique()\n",
    "df['day_of_week'] = df['day_of_week'].replace(['mon', 'tue', 'wed', 'thu', 'fri'], [1,2,3,4,5])\n",
    "df['contact'].unique()\n",
    "df['contact'] = df['contact'].replace(['telephone', 'cellular'], [1,2])\n",
    "df['y'].unique()\n",
    "df['y'] = df['y'].replace(['no', 'yes'], [0,1])\n",
    "\n",
    "df.head()"
   ]
  },
  {
   "cell_type": "markdown",
   "id": "4f9219fe",
   "metadata": {},
   "source": [
    "#### 2.Dropping Unnecessary columns with single values"
   ]
  },
  {
   "cell_type": "code",
   "execution_count": null,
   "id": "28c72a8e",
   "metadata": {},
   "outputs": [],
   "source": [
    "df = df.drop(['pdays'],axis = 1)\n",
    "df"
   ]
  },
  {
   "cell_type": "code",
   "execution_count": null,
   "id": "d1454841",
   "metadata": {},
   "outputs": [],
   "source": [
    "df.columns"
   ]
  },
  {
   "cell_type": "markdown",
   "id": "e154f20d",
   "metadata": {},
   "source": [
    "#### 3.Replace null values if there are any"
   ]
  },
  {
   "cell_type": "code",
   "execution_count": null,
   "id": "70d03ec7",
   "metadata": {},
   "outputs": [],
   "source": [
    "col_names = ['age', 'job', 'marital', 'education', 'housing', 'loan', 'contact','month', 'day_of_week', 'duration', 'campaign', 'emp.var.rate',\n",
    "             'cons.price.idx', 'cons.conf.idx', 'euribor3m', 'nr.employed', 'y']\n",
    "for col in col_names:\n",
    "    mode_value = df[col].mode().values\n",
    "    df[col].fillna(mode_value[0], inplace = True)"
   ]
  },
  {
   "cell_type": "code",
   "execution_count": null,
   "id": "841c5ee0",
   "metadata": {},
   "outputs": [],
   "source": [
    "df.isna().sum() #checking null values"
   ]
  },
  {
   "cell_type": "markdown",
   "id": "01634c08",
   "metadata": {},
   "source": [
    "This cell is to create a dataframe copy of DF for visualization."
   ]
  },
  {
   "cell_type": "code",
   "execution_count": null,
   "id": "cc5a1b46",
   "metadata": {},
   "outputs": [],
   "source": [
    "col_name = ['cons.price.idx']\n",
    "for col in col_name:\n",
    "    mode_value = df[col].mode().values\n",
    "    df[col].fillna(mode_value[0], inplace = True)\n",
    "\n",
    "def scaler_from_0to1(series):\n",
    "     return (series - series.min()) / (series.max() - series.min())\n",
    "\n",
    "for col in col_name:\n",
    "    df[col] = scaler_from_0to1(df[col])\n",
    "df1 = df.copy(deep = True)"
   ]
  },
  {
   "cell_type": "markdown",
   "id": "65c1de5d",
   "metadata": {},
   "source": [
    "#### 4. Rescale dataset columns to the range from 0 to 1"
   ]
  },
  {
   "cell_type": "code",
   "execution_count": null,
   "id": "f26e7453",
   "metadata": {},
   "outputs": [],
   "source": [
    "def scaler_from_0to1(series):\n",
    "     return (series - series.min()) / (series.max() - series.min())"
   ]
  },
  {
   "cell_type": "code",
   "execution_count": null,
   "id": "e0320b88",
   "metadata": {},
   "outputs": [],
   "source": [
    "for col in col_names:\n",
    "    df1[col] = scaler_from_0to1(df1[col])"
   ]
  },
  {
   "cell_type": "markdown",
   "id": "5d6e8d1a",
   "metadata": {},
   "source": [
    "#### 5. Finding correlation to find the dependencies and remove over headed columns"
   ]
  },
  {
   "cell_type": "code",
   "execution_count": null,
   "id": "7e04d058",
   "metadata": {},
   "outputs": [],
   "source": [
    "cormat = df.corr()\n",
    "round(cormat,2)"
   ]
  },
  {
   "cell_type": "code",
   "execution_count": null,
   "id": "bdaf3549",
   "metadata": {},
   "outputs": [],
   "source": [
    "df = df.drop(['euribor3m'],axis = 1)\n",
    "df = df.drop(['nr.employed'],axis = 1)\n",
    "df = df.drop(['emp.var.rate'],axis = 1)"
   ]
  },
  {
   "cell_type": "code",
   "execution_count": null,
   "id": "3cb415ef",
   "metadata": {},
   "outputs": [],
   "source": [
    "df"
   ]
  },
  {
   "cell_type": "code",
   "execution_count": null,
   "id": "bea5d368",
   "metadata": {},
   "outputs": [],
   "source": [
    "df1"
   ]
  },
  {
   "cell_type": "markdown",
   "id": "f8ea0df3",
   "metadata": {},
   "source": [
    "#### 6. Convert Normalized data's datatypes to float"
   ]
  },
  {
   "cell_type": "code",
   "execution_count": null,
   "id": "2cae913f",
   "metadata": {},
   "outputs": [],
   "source": [
    "string_datatype_cols=['age', 'job', 'marital', 'education', 'housing', 'loan', 'contact','month', 'day_of_week', 'duration', 'campaign',\n",
    "             'cons.price.idx', 'cons.conf.idx', 'y']\n",
    "for col in string_datatype_cols:\n",
    "    df[col] = df[col].astype('float',errors = 'raise')"
   ]
  },
  {
   "cell_type": "code",
   "execution_count": null,
   "id": "52390842",
   "metadata": {},
   "outputs": [],
   "source": [
    "df.head()"
   ]
  },
  {
   "cell_type": "markdown",
   "id": "c5d8e10d",
   "metadata": {},
   "source": [
    "#### 7. Renaming the Fileds"
   ]
  },
  {
   "cell_type": "code",
   "execution_count": null,
   "id": "b011792f",
   "metadata": {},
   "outputs": [],
   "source": [
    "df.columns = [c.replace('.', '_') for c in df.columns]\n",
    "df.head()"
   ]
  },
  {
   "cell_type": "markdown",
   "id": "0aa2ffa5",
   "metadata": {},
   "source": [
    "#### 8. Remove rows who's age is less than 20"
   ]
  },
  {
   "cell_type": "code",
   "execution_count": null,
   "id": "c750c315",
   "metadata": {},
   "outputs": [],
   "source": [
    "age_20=df[df['age']<20]\n",
    "print(age_20.count())"
   ]
  },
  {
   "cell_type": "code",
   "execution_count": null,
   "id": "32f3fdc7",
   "metadata": {},
   "outputs": [],
   "source": [
    "for x in df.index:\n",
    "    if df.loc[x, 'age'] < 20:\n",
    "        df.drop(x, inplace = True)"
   ]
  },
  {
   "cell_type": "code",
   "execution_count": null,
   "id": "53ba2bd1",
   "metadata": {},
   "outputs": [],
   "source": [
    "age_20=df[df['age']<20]\n",
    "print(age_20.count())"
   ]
  },
  {
   "cell_type": "markdown",
   "id": "e00fbae1",
   "metadata": {},
   "source": [
    "#### 9.Removing records with Duplicate Data"
   ]
  },
  {
   "cell_type": "code",
   "execution_count": null,
   "id": "c6847da4",
   "metadata": {},
   "outputs": [],
   "source": [
    "df.duplicated().sum()"
   ]
  },
  {
   "cell_type": "code",
   "execution_count": null,
   "id": "71c810c5",
   "metadata": {},
   "outputs": [],
   "source": [
    "df = df.drop_duplicates(keep='first')"
   ]
  },
  {
   "cell_type": "code",
   "execution_count": null,
   "id": "66d324f9",
   "metadata": {},
   "outputs": [],
   "source": [
    "df.duplicated().sum()"
   ]
  },
  {
   "cell_type": "markdown",
   "id": "cb6e1d9c",
   "metadata": {},
   "source": [
    "#### 10. Remove columns that has low variance"
   ]
  },
  {
   "cell_type": "code",
   "execution_count": null,
   "id": "f0950419",
   "metadata": {},
   "outputs": [],
   "source": [
    "from sklearn.feature_selection import VarianceThreshold\n",
    "\n",
    "transform = VarianceThreshold()\n",
    "# transform the input data\n",
    "X_sel = transform.fit_transform(df)\n",
    "print('X_Sel shape: ',X_sel.shape,'\\n')\n",
    "\n",
    "#print(df.isna().sum())\n",
    "\n",
    "df.head()"
   ]
  },
  {
   "cell_type": "code",
   "execution_count": null,
   "id": "81f19534",
   "metadata": {},
   "outputs": [],
   "source": [
    "df.describe()"
   ]
  },
  {
   "cell_type": "markdown",
   "id": "6ed2a41f",
   "metadata": {},
   "source": [
    "### EDA, Data Visualization"
   ]
  },
  {
   "cell_type": "markdown",
   "id": "e18cec68",
   "metadata": {},
   "source": [
    "#### 1. Plot on distribution on Education\n",
    "\n",
    "Result: the graph shows that the data has more candidates with University Degree followed by high-school"
   ]
  },
  {
   "cell_type": "code",
   "execution_count": null,
   "id": "8cd554c6",
   "metadata": {},
   "outputs": [],
   "source": [
    "for col in df.columns:\n",
    "    df[col] = df[col].astype('float',errors = 'raise')\n",
    "sns.distplot( df['education'], kde=False)"
   ]
  },
  {
   "cell_type": "markdown",
   "id": "91979662",
   "metadata": {},
   "source": [
    "#### 2. Catplot \n",
    "\n",
    "cons.price.idx: The Consumer Price Index (CPI) is a measure of the average change over time in the prices paid by urban consumers for a market basket of consumer goods.\n",
    "Poutcome: outcome of the previous marketing campaign (categorical:'failure','nonexistent','success')\n",
    "\n",
    "Plot on how rise in CPI impacts outcome of the phone based direct marketing campaign outcomes"
   ]
  },
  {
   "cell_type": "code",
   "execution_count": null,
   "id": "a17b6b96",
   "metadata": {},
   "outputs": [],
   "source": [
    "sns.catplot(x=\"poutcome\", y=\"cons_price_idx\", hue=\"y\", kind = 'bar',data=df, palette = \"rainbow\")"
   ]
  },
  {
   "cell_type": "markdown",
   "id": "a9d0c0b8",
   "metadata": {},
   "source": [
    "Based on Age of an individual and their educational background, the plot shows whether if the contact has a personal loan"
   ]
  },
  {
   "cell_type": "code",
   "execution_count": null,
   "id": "d767ca70",
   "metadata": {},
   "outputs": [],
   "source": [
    "sns.catplot(x=\"education\", y=\"age\", hue=\"loan\",col=\"y\", kind = 'violin',data=df, palette = \"rainbow\")"
   ]
  },
  {
   "cell_type": "markdown",
   "id": "9ea2ea87",
   "metadata": {},
   "source": [
    "#### 3. Violinplot"
   ]
  },
  {
   "cell_type": "markdown",
   "id": "91d8dd16",
   "metadata": {},
   "source": [
    "The following graph show cases the impact on output based on the call duration on each campaign phone call."
   ]
  },
  {
   "cell_type": "code",
   "execution_count": null,
   "id": "1120dae9",
   "metadata": {},
   "outputs": [],
   "source": [
    "plt.title('Violinplot')\n",
    "sns.violinplot(x='y', y='duration',data=df)"
   ]
  },
  {
   "cell_type": "markdown",
   "id": "1c0958d2",
   "metadata": {},
   "source": [
    "This consumer confidence indicator provides an indication of future developments of households' consumption and saving, based upon answers regarding their expected financial situation, their sentiment about the general economic situation, unemployment and capability of savings.\n",
    "\n",
    "The score is relative to 1985, so anything above 100 means consumers feel more optimistic about the economy than they did in 1985 and anything below 100 means they feel less confident than in 1985.\n",
    "\n",
    "The following graph shows how marital status impacts the customer sentiment about the economic systems.\n",
    "\n",
    "['married', 'single', 'divorced', 'unknown'], [1,2,3,4]\n",
    "\n",
    "df1['cons.conf.idx'].unique() ranges from [-35 to -50]"
   ]
  },
  {
   "cell_type": "code",
   "execution_count": null,
   "id": "ef812435",
   "metadata": {},
   "outputs": [],
   "source": [
    "plt.figure(figsize=(8,8))\n",
    "plt.title('Violinplot')\n",
    "sns.violinplot(x='marital', y='cons_conf_idx',data=df)"
   ]
  },
  {
   "cell_type": "markdown",
   "id": "660b62ab",
   "metadata": {},
   "source": [
    "#### 4. Joinplot"
   ]
  },
  {
   "cell_type": "markdown",
   "id": "e21cc0dd",
   "metadata": {},
   "source": [
    "The following graph show cases the call duration on each campaign phone call based on individuals of different age groups is proportionate to their interest to know more details about the campaign  to subscribe to a term deposit."
   ]
  },
  {
   "cell_type": "code",
   "execution_count": null,
   "id": "62e4043d",
   "metadata": {},
   "outputs": [],
   "source": [
    "sns.jointplot(x=\"age\", y=\"duration\", data=df, color ='green')"
   ]
  },
  {
   "cell_type": "markdown",
   "id": "30ed6839",
   "metadata": {},
   "source": [
    "#### 5. Displot"
   ]
  },
  {
   "cell_type": "markdown",
   "id": "079da863",
   "metadata": {},
   "source": [
    "The following graph shows the subsription status of the candidates according to the type of job at a specific age.\n",
    "\n",
    "JOB: ['housemaid', 'services', 'admin.', 'blue-collar', 'technician',\n",
    "       'retired', 'management', 'unemployed', 'self-employed', 'unknown',\n",
    "       'entrepreneur', 'student'], [1,2,3,4,5,6,7,8,9,10,11,12]\n",
    "\n",
    "result: It looks like 'admin.', 'blue-collar', 'technician' job type candidates didn't show interest to subscribe and age group 40 to 60 being an entrepreneur, self-employed, retired opted IN"
   ]
  },
  {
   "cell_type": "code",
   "execution_count": null,
   "id": "bc7a8d56",
   "metadata": {},
   "outputs": [],
   "source": [
    "sns.displot(\n",
    "    data=df, x=\"age\", y=\"job\", col=\"y\",\n",
    "    log_scale=(True, False), col_wrap=10, height=10, aspect=1,\n",
    ")"
   ]
  },
  {
   "cell_type": "markdown",
   "id": "e91578f3",
   "metadata": {},
   "source": [
    "#### 6 HeatMap"
   ]
  },
  {
   "cell_type": "code",
   "execution_count": null,
   "id": "430edd20",
   "metadata": {},
   "outputs": [],
   "source": [
    "plt.figure(figsize = (10,10))\n",
    "sns.heatmap(df.corr(), annot=True, cmap = 'rocket', linewidth = 0.01)\n",
    "plt.title(\"Correlation Heatmap\")\n",
    "plt.show()"
   ]
  },
  {
   "cell_type": "markdown",
   "id": "2569c093",
   "metadata": {},
   "source": [
    "#### 7.Subplot"
   ]
  },
  {
   "cell_type": "markdown",
   "id": "4e65deea",
   "metadata": {},
   "source": [
    "majority of the data collected in the dataset are between age group 20 to 45 working as 'admin.', 'blue-collar', 'technician' or 'retired'\n",
    "\n",
    "Job Labels:\n",
    "(['housemaid', 'services', 'admin.', 'blue-collar', 'technician','retired', 'management', 'unemployed', 'self-employed', 'unknown','entrepreneur', 'student'], [1,2,3,4,5,6,7,8,9,10,11,12])"
   ]
  },
  {
   "cell_type": "code",
   "execution_count": null,
   "id": "8fd336c0",
   "metadata": {},
   "outputs": [],
   "source": [
    "plt.subplot(1, 2, 1) # row 1, col 2 index 1\n",
    "ax = sns.distplot(df1['age'],\n",
    "                  bins=100,\n",
    "                  kde=True,\n",
    "                  color='skyblue',\n",
    "                  hist_kws={\"linewidth\": 15,'alpha':1})\n",
    "\n",
    "plt.subplot(1, 2, 2) # index 2\n",
    "\n",
    "ax = sns.distplot(df1['job'],\n",
    "                  bins=12,\n",
    "                  kde=True,\n",
    "                  color='skyblue',\n",
    "                  hist_kws={\"linewidth\": 15,'alpha':1})               \n",
    "ax.set(xlabel='Normal Distribution', ylabel='Frequency')\n",
    "\n",
    "plt.show()"
   ]
  },
  {
   "cell_type": "markdown",
   "id": "3523ece9",
   "metadata": {},
   "source": [
    "#### 8.Autocorrelation plot "
   ]
  },
  {
   "cell_type": "markdown",
   "id": "1612b2bc",
   "metadata": {},
   "source": [
    "In the below graph is compared between the attributes duration, cons_price_idx & y, by this autocorrelation we can see the randomness of the data"
   ]
  },
  {
   "cell_type": "code",
   "execution_count": null,
   "id": "d2f33d51",
   "metadata": {},
   "outputs": [],
   "source": [
    "plt.figure(figsize=(10,10))\n",
    "target_value=df['y']\n",
    "predict_value=df['duration']\n",
    "less_correlated_value=df['cons_price_idx']\n",
    "pd.plotting.autocorrelation_plot(target_value,color='red')\n",
    "pd.plotting.autocorrelation_plot(predict_value,color='yellow')\n",
    "pd.plotting.autocorrelation_plot(less_correlated_value)\n",
    "plt.plot(target_value,predict_value,less_correlated_value)\n",
    "plt.show()"
   ]
  },
  {
   "cell_type": "markdown",
   "id": "ed32d6c2",
   "metadata": {},
   "source": [
    "#### 9. Boxplot"
   ]
  },
  {
   "cell_type": "code",
   "execution_count": null,
   "id": "671b936f",
   "metadata": {},
   "outputs": [],
   "source": [
    "y=df['age']\n",
    "#plt.figure(figsize = (8,8))\n",
    "pyplot.boxplot(y)\n",
    "pyplot.show()"
   ]
  },
  {
   "cell_type": "markdown",
   "id": "dea95615",
   "metadata": {},
   "source": [
    "#### 10. Line plot"
   ]
  },
  {
   "cell_type": "code",
   "execution_count": null,
   "id": "ab199111",
   "metadata": {},
   "outputs": [],
   "source": [
    "plt.figure(figsize = (8,8))\n",
    "x=df1['y']\n",
    "y=df1['duration']\n",
    "pyplot.plot(x,y,color='gray')\n",
    "plt.title('DURATION VS Y')\n",
    "plt.xlabel('Y')\n",
    "plt.ylabel('DURATION')\n",
    "pyplot.show()"
   ]
  },
  {
   "cell_type": "code",
   "execution_count": null,
   "id": "1cd827dc",
   "metadata": {},
   "outputs": [],
   "source": [
    "sns.boxplot(\n",
    "    data=df1, x=\"loan\", y=\"month\",\n",
    "    notch=True, showcaps=False,\n",
    "    flierprops={\"marker\": \"x\"},\n",
    "    boxprops={\"facecolor\": (.4, .6, .8, .5)},\n",
    "    medianprops={\"color\": \"coral\"},\n",
    ")"
   ]
  },
  {
   "cell_type": "markdown",
   "id": "c6deb1d6",
   "metadata": {},
   "source": [
    "# Classification:"
   ]
  },
  {
   "cell_type": "code",
   "execution_count": 2,
   "id": "f025f4c8",
   "metadata": {},
   "outputs": [],
   "source": [
    "from sklearn.tree import DecisionTreeClassifier\n"
   ]
  },
  {
   "cell_type": "code",
   "execution_count": null,
   "id": "bfd318fb",
   "metadata": {},
   "outputs": [],
   "source": [
    "X = df[]\n",
    "y = df.y"
   ]
  }
 ],
 "metadata": {
  "kernelspec": {
   "display_name": "Python 3 (ipykernel)",
   "language": "python",
   "name": "python3"
  },
  "language_info": {
   "codemirror_mode": {
    "name": "ipython",
    "version": 3
   },
   "file_extension": ".py",
   "mimetype": "text/x-python",
   "name": "python",
   "nbconvert_exporter": "python",
   "pygments_lexer": "ipython3",
   "version": "3.9.13"
  },
  "vscode": {
   "interpreter": {
    "hash": "74186df2c8d37252cc996c4d175eb6167848626ee84466517674a44014c1ac24"
   }
  }
 },
 "nbformat": 4,
 "nbformat_minor": 5
}
